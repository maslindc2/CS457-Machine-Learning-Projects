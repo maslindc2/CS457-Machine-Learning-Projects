{
 "cells": [
  {
   "cell_type": "markdown",
   "metadata": {},
   "source": [
    "#### Project 4: Maslin Farrell"
   ]
  },
  {
   "cell_type": "markdown",
   "metadata": {},
   "source": [
    "Importing necessary libraries"
   ]
  },
  {
   "cell_type": "code",
   "execution_count": 52,
   "metadata": {},
   "outputs": [],
   "source": [
    "import Characters #Where the prototypes and their noisy variations are stored\n",
    "import numpy as np \n",
    "import pandas as pd\n",
    "from sklearn.svm import SVC #C-Support Vector Classification.\n",
    "import matplotlib.pyplot as plt \n",
    "import sklearn.metrics as metrics # Used for displaying results\n",
    "\n",
    "from sklearn.neural_network import MLPClassifier # MLP classifier\n",
    "from sklearn.neighbors import KNeighborsClassifier # k-NN algorithm\n",
    "from sklearn.ensemble import RandomForestClassifier #Random Forest Algorithm\n",
    "from sklearn.model_selection import train_test_split, GridSearchCV # used for splitting data into training and testing sets"
   ]
  },
  {
   "cell_type": "markdown",
   "metadata": {},
   "source": [
    "Letter Array processing"
   ]
  },
  {
   "cell_type": "code",
   "execution_count": 53,
   "metadata": {},
   "outputs": [
    {
     "name": "stdout",
     "output_type": "stream",
     "text": [
      "Training and Testing with letter set: J\n"
     ]
    }
   ],
   "source": [
    "# Randomly pick the letter to use on the letter set\n",
    "randLetter = np.random.randint(1,10)\n",
    "\n",
    "#Create training and testing sets using Scikit's train_test_split ensures no overlap and randomly chosen\n",
    "# ___DataSet is the X value in k-NN and RandomForest\n",
    "# ___Noise is the Y value in k-NN and RandomForest\n",
    "trainDataSet, testDataSet = train_test_split(Characters.letters[9], test_size=0.4, random_state=True) # splits 40% for testing 60% for training\n",
    "\n",
    "#Create training targets\n",
    "trainTarget = [0,0,1,1,1,1]\n",
    "testTarget = [0,1,1,1]\n",
    "\n",
    "print(f\"Training and Testing with {Characters.printPickedLetter(9)}\")"
   ]
  },
  {
   "cell_type": "markdown",
   "metadata": {},
   "source": [
    "### MLP"
   ]
  },
  {
   "cell_type": "code",
   "execution_count": 54,
   "metadata": {},
   "outputs": [],
   "source": [
    "# Parameter Grid used for GridSearch on MLP\n",
    "# Hidden layer size, activation, solver, and learning rate had three different options, narrowed down to 1 that was consist across 20 tests  (120,80,40)\n",
    "# 0.001 proved to be the most consistent out of 0.5, 0.05, 0.005, 0.0005, 0.01, 0.0001\n",
    "# Max iteration narrowed down to 150 (100, 250 where the other options, 150 was consistently the best)\n",
    "\n",
    "#mlpParamGrid = {\n",
    "#    'hidden_layer_sizes': [(150,100,50), (120,80,40)],\n",
    "#    'max_iter': [100, 150, 200, 250, 300, 350],\n",
    "#    'activation': ['tanh'], There were other options here I promise but I didn't write down what they were so for now believe me this is the best option\n",
    "#    'solver': ['sgd'],There were other options here I promise but I didn't write down what they were so for now believe me this is the best option\n",
    "#    'alpha': [0.5, 0.05, 0.005, 0.0005, 0.01, 0.0001],\n",
    "#    'learning_rate': ['constant'], There were other options here I promise but I didn't write down what they were so for now believe me this is the best option\n",
    "#}"
   ]
  },
  {
   "cell_type": "code",
   "execution_count": 78,
   "metadata": {},
   "outputs": [
    {
     "name": "stderr",
     "output_type": "stream",
     "text": [
      "c:\\Users\\Maslin\\Documents\\School\\CS457\\Project 4\\env\\lib\\site-packages\\sklearn\\neural_network\\_multilayer_perceptron.py:692: ConvergenceWarning: Stochastic Optimizer: Maximum iterations (150) reached and the optimization hasn't converged yet.\n",
      "  warnings.warn(\n"
     ]
    }
   ],
   "source": [
    "mlpCLF = MLPClassifier(hidden_layer_sizes= (150,100,50), max_iter=150, activation='tanh', solver='sgd', alpha=0.0001) # Create mlp classifier\n",
    "# mlpGrid = GridSearchCV(mlpCLF, mlpParamGrid, n_jobs=-1, cv=2) # No longer used just here to show we used it to find the best parameters\n",
    "mlpCLF.fit(trainDataSet, trainTarget) # Fit the data\n",
    "mlpPredictions = mlpCLF.predict(testDataSet)"
   ]
  },
  {
   "cell_type": "markdown",
   "metadata": {},
   "source": [
    "Accuracy for MLP"
   ]
  },
  {
   "cell_type": "code",
   "execution_count": 56,
   "metadata": {},
   "outputs": [
    {
     "name": "stdout",
     "output_type": "stream",
     "text": [
      "Accuracy: 100.0%\n",
      "Precision Score: 1.0\n",
      "F1 Score: 1.0\n",
      "Recall Score: 1.0\n"
     ]
    }
   ],
   "source": [
    "print(f\"Accuracy: {metrics.accuracy_score(testTarget, mlpPredictions)*100}%\") # Print Accuracy of the model\n",
    "print(f\"Precision Score: {metrics.precision_score(testTarget, mlpPredictions)}\") # Best value is 1 and worst is 0\n",
    "print(f\"F1 Score: {metrics.f1_score(testTarget, mlpPredictions)}\") # F1 Score measures harmonic mean of the precision and recall\n",
    "print(f\"Recall Score: {metrics.recall_score(testTarget, mlpPredictions)}\") # Recall measures the ability to find all positive samples, best is 1 worst is 0\n",
    "\n",
    "mlpResults = list() # [0] = Accuracy, [1] = Precision Score, [2] = F1, [3] = Recall Score\n",
    "mlpResults.append(metrics.accuracy_score(testTarget, mlpPredictions)*100)\n",
    "mlpResults.append(metrics.precision_score(testTarget, mlpPredictions))\n",
    "mlpResults.append(metrics.f1_score(testTarget, mlpPredictions))\n",
    "mlpResults.append(metrics.recall_score(testTarget, mlpPredictions))"
   ]
  },
  {
   "cell_type": "markdown",
   "metadata": {},
   "source": [
    "Confusion Matrix for MLP"
   ]
  },
  {
   "cell_type": "code",
   "execution_count": 57,
   "metadata": {},
   "outputs": [
    {
     "data": {
      "image/png": "[encoded data removed]",
      "text/plain": [
       "<Figure size 432x288 with 2 Axes>"
      ]
     },
     "metadata": {
      "needs_background": "light"
     },
     "output_type": "display_data"
    }
   ],
   "source": [
    "# Creates a Confusion Matrix\n",
    "fig = metrics.ConfusionMatrixDisplay.from_predictions(testTarget, mlpPredictions)\n",
    "fig.figure_.suptitle(\"Confusion Matrix for MLP\") \n",
    "plt.show()"
   ]
  },
  {
   "cell_type": "markdown",
   "metadata": {},
   "source": [
    "### K-Nearest Neighbor\n"
   ]
  },
  {
   "cell_type": "code",
   "execution_count": 58,
   "metadata": {},
   "outputs": [],
   "source": [
    "#knnParamGrid = {\n",
    "#    'n_neighbors': [1,2,3,4,5,6], # Tested as 'n_neighbors': [1,2,3,4,5,6], the best value was 3\n",
    "#    'weights': ['uniform', 'distance'], # Tested as ['uniform', 'distance'], the best value was uniform\n",
    "#    'metric': ['euclidean', 'manhattan', 'minkowski'], # Tested as ['euclidean', 'manhattan', 'minkowski'], the best value was euclidean\n",
    "#    'leaf_size': [10, 30, 50, 70, 90, 100, 150, 200, 250] # Tested as [10, 30, 50, 70, 90, 100, 150, 200, 250], the best value was 10\n",
    "#}"
   ]
  },
  {
   "cell_type": "code",
   "execution_count": 59,
   "metadata": {},
   "outputs": [],
   "source": [
    "#Create KNN classifier\n",
    "knnCLF = KNeighborsClassifier(n_neighbors = 3, weights = 'uniform', metric='euclidean', leaf_size=10, n_jobs=-1) \n",
    "\n",
    "# Use grid search to find the best parameters\n",
    "#knnGrid = GridSearchCV(knnCLF, knnParamGrid, n_jobs=-1, cv=2, verbose=1)  No longer used (just here to show how we used GridSearch)\n",
    "\n",
    "#Train the model using training sets\n",
    "knnCLF.fit(trainDataSet, trainTarget)\n",
    "knnPredictions = knnCLF.predict(testDataSet)"
   ]
  },
  {
   "cell_type": "markdown",
   "metadata": {},
   "source": [
    "Accuracy for K-Nearest Neighbor"
   ]
  },
  {
   "cell_type": "code",
   "execution_count": 60,
   "metadata": {},
   "outputs": [
    {
     "name": "stdout",
     "output_type": "stream",
     "text": [
      "Accuracy: 75.0%\n",
      "Precision Score: 1.0\n",
      "F1 Score: 0.8\n",
      "Recall Score: 0.6666666666666666\n"
     ]
    }
   ],
   "source": [
    "print(f\"Accuracy: {metrics.accuracy_score(testTarget, knnPredictions)*100}%\") # Print Accuracy of the model\n",
    "print(f\"Precision Score: {metrics.precision_score(testTarget, knnPredictions)}\") # Best value is 1 and worst is 0\n",
    "print(f\"F1 Score: {metrics.f1_score(testTarget, knnPredictions)}\") # F1 Score measures harmonic mean of the precision and recall\n",
    "print(f\"Recall Score: {metrics.recall_score(testTarget, knnPredictions)}\") # Recall measures the ability to find all positive samples, best is 1 worst is 0\n",
    "\n",
    "knnResults = list() # [0] = Accuracy, [1] = Precision Score, [2] = F1, [3] = Recall Score\n",
    "knnResults.append(metrics.accuracy_score(testTarget, knnPredictions)*100)\n",
    "knnResults.append(metrics.precision_score(testTarget, knnPredictions))\n",
    "knnResults.append(metrics.f1_score(testTarget, knnPredictions))\n",
    "knnResults.append(metrics.recall_score(testTarget, knnPredictions))"
   ]
  },
  {
   "cell_type": "markdown",
   "metadata": {},
   "source": [
    "Confusion Matrix for K-Nearest Neighbor"
   ]
  },
  {
   "cell_type": "code",
   "execution_count": 61,
   "metadata": {},
   "outputs": [
    {
     "data": {
      "image/png": "[encoded data removed]",
      "text/plain": [
       "<Figure size 432x288 with 2 Axes>"
      ]
     },
     "metadata": {
      "needs_background": "light"
     },
     "output_type": "display_data"
    }
   ],
   "source": [
    "fig = metrics.ConfusionMatrixDisplay.from_predictions(testTarget, knnPredictions, labels=knnCLF.classes_) \n",
    "fig.figure_.suptitle(\"Confusion Matrix for K-Nearest Neighbor\") \n",
    "plt.show()"
   ]
  },
  {
   "cell_type": "markdown",
   "metadata": {},
   "source": [
    "### SVM"
   ]
  },
  {
   "cell_type": "code",
   "execution_count": 62,
   "metadata": {},
   "outputs": [],
   "source": [
    "#SVM Parameter Grid used for GridSearch to \"automatically\" tune the hyperparameters\n",
    "#svmParamGrid = {\n",
    "#    'C': [0.1],  #Tested as: [0.1, 1, 10, 30, 50, 100, 300, 500, 1000], the best value was 0.1 across all letter sets\n",
    "#    'kernel': ['linear'], #Tested as: [linear, rbf, sigmoid], the best value was linear across all letter sets\n",
    "#    'gamma': [1], # Tested as: [1, 0.1, 0.01, 0.001, 0.0001] the best value was 1 across all letter sets\n",
    "#}"
   ]
  },
  {
   "cell_type": "code",
   "execution_count": 79,
   "metadata": {},
   "outputs": [],
   "source": [
    "svmCLF = SVC(C=.1, kernel='linear', gamma=1)\n",
    "#svmGrid = GridSearchCV(svmCLF, svmParamGrid, cv=2, refit = True, n_jobs=-1, verbose=2) # No longer needed just showing we used it\n",
    "svmCLF.fit(trainDataSet, trainTarget)\n",
    "svmPredictions = svmCLF.predict(testDataSet)"
   ]
  },
  {
   "cell_type": "markdown",
   "metadata": {},
   "source": [
    "Accuracy results for SVM"
   ]
  },
  {
   "cell_type": "code",
   "execution_count": 64,
   "metadata": {},
   "outputs": [
    {
     "name": "stdout",
     "output_type": "stream",
     "text": [
      "Accuracy: 100.0%\n",
      "Precision Score: 1.0\n",
      "F1 Score: 1.0\n",
      "Recall Score: 1.0\n"
     ]
    }
   ],
   "source": [
    "print(f\"Accuracy: {metrics.accuracy_score(testTarget, svmPredictions)*100}%\") # Print Accuracy of the model\n",
    "print(f\"Precision Score: {metrics.precision_score(testTarget, svmPredictions)}\") # Best value is 1 and worst is 0\n",
    "print(f\"F1 Score: {metrics.f1_score(testTarget, svmPredictions)}\") # F1 Score measures harmonic mean of the precision and recall\n",
    "print(f\"Recall Score: {metrics.recall_score(testTarget, svmPredictions)}\") # Recall measures the ability to find all positive samples, best is 1 worst is 0\n",
    "\n",
    "svmResults = list() # [0] = Accuracy, [1] = Precision Score, [2] = F1, [3] = Recall Score\n",
    "svmResults.append(metrics.accuracy_score(testTarget, svmPredictions)*100)\n",
    "svmResults.append(metrics.precision_score(testTarget, svmPredictions))\n",
    "svmResults.append(metrics.f1_score(testTarget, svmPredictions))\n",
    "svmResults.append(metrics.recall_score(testTarget, svmPredictions))"
   ]
  },
  {
   "cell_type": "markdown",
   "metadata": {},
   "source": [
    "SVM Confusion Matrix"
   ]
  },
  {
   "cell_type": "code",
   "execution_count": 65,
   "metadata": {},
   "outputs": [
    {
     "data": {
      "image/png": "[encoded data removed]",
      "text/plain": [
       "<Figure size 432x288 with 2 Axes>"
      ]
     },
     "metadata": {
      "needs_background": "light"
     },
     "output_type": "display_data"
    }
   ],
   "source": [
    "fig = metrics.ConfusionMatrixDisplay.from_predictions(testTarget, svmPredictions, labels=svmCLF.classes_) \n",
    "fig.figure_.suptitle(\"Confusion Matrix for SVM\") \n",
    "plt.show()"
   ]
  },
  {
   "cell_type": "markdown",
   "metadata": {},
   "source": [
    "### Random Forest"
   ]
  },
  {
   "cell_type": "code",
   "execution_count": 66,
   "metadata": {},
   "outputs": [],
   "source": [
    "#Below is the Parameter Grid that was used to tune the model \n",
    "# Across all letter sets the best parameters were: {'criterion': 'gini', 'max_features': 'sqrt', 'n_estimators': 100}\n",
    "#rfParamGrid = {\n",
    "#    'n_estimators': [100, 300, 500, 700, 1000],\n",
    "#    'criterion': ['gini', 'entropy', 'logo_loss'],\n",
    "#    'max_features': ['sqrt', 'log2', 'None']\n",
    "#}"
   ]
  },
  {
   "cell_type": "code",
   "execution_count": 67,
   "metadata": {},
   "outputs": [],
   "source": [
    "rfCLF = RandomForestClassifier(criterion='gini', max_features='sqrt', n_estimators=100) # Create Random Forest Classifier using parameters from grid search\n",
    "#rfGrid = GridSearchCV(rfCLF, rfParamGrid, n_jobs=-1, cv = 2, verbose=0) #No longer used since best parameters are consistent\n",
    "rfCLF.fit(trainDataSet, trainTarget) #Fit the training data/target\n",
    "rfPredictions = rfCLF.predict(testDataSet) # Make predictions"
   ]
  },
  {
   "cell_type": "markdown",
   "metadata": {},
   "source": [
    "Accuracy Results for Random Forest"
   ]
  },
  {
   "cell_type": "code",
   "execution_count": 68,
   "metadata": {},
   "outputs": [
    {
     "name": "stdout",
     "output_type": "stream",
     "text": [
      "Accuracy: 100.0%\n",
      "Precision Score: 1.0\n",
      "F1 Score: 1.0\n",
      "Recall Score: 1.0\n"
     ]
    }
   ],
   "source": [
    "print(f\"Accuracy: {metrics.accuracy_score(testTarget, rfPredictions)*100}%\") # Print Accuracy of the model\n",
    "print(f\"Precision Score: {metrics.precision_score(testTarget, rfPredictions)}\") # Best value is 1 and worst is 0\n",
    "print(f\"F1 Score: {metrics.f1_score(testTarget, rfPredictions)}\") # F1 Score measures harmonic mean of the precision and recall\n",
    "print(f\"Recall Score: {metrics.recall_score(testTarget, rfPredictions)}\") # Recall measures the ability to find all positive samples, best is 1 worst is 0\n",
    "\n",
    "rfResults = list() # [0] = Accuracy, [1] = Precision Score, [2] = F1, [3] = Recall Score\n",
    "rfResults.append(metrics.accuracy_score(testTarget, rfPredictions)*100)\n",
    "rfResults.append(metrics.precision_score(testTarget, rfPredictions))\n",
    "rfResults.append(metrics.f1_score(testTarget, rfPredictions))\n",
    "rfResults.append(metrics.recall_score(testTarget, rfPredictions))"
   ]
  },
  {
   "cell_type": "markdown",
   "metadata": {},
   "source": [
    "Confusion Matrix for Random Forest"
   ]
  },
  {
   "cell_type": "code",
   "execution_count": 69,
   "metadata": {},
   "outputs": [
    {
     "data": {
      "image/png": "[encoded data removed]",
      "text/plain": [
       "<Figure size 432x288 with 2 Axes>"
      ]
     },
     "metadata": {
      "needs_background": "light"
     },
     "output_type": "display_data"
    }
   ],
   "source": [
    "fig = metrics.ConfusionMatrixDisplay.from_predictions(testTarget, rfPredictions, labels=rfCLF.classes_) \n",
    "fig.figure_.suptitle(\"Confusion Matrix for Random Forest\") \n",
    "plt.show()"
   ]
  },
  {
   "cell_type": "markdown",
   "metadata": {},
   "source": [
    "### Result Analysis"
   ]
  },
  {
   "cell_type": "code",
   "execution_count": 70,
   "metadata": {},
   "outputs": [
    {
     "data": {
      "text/html": [
       "<div>\n",
       "<style scoped>\n",
       "    .dataframe tbody tr th:only-of-type {\n",
       "        vertical-align: middle;\n",
       "    }\n",
       "\n",
       "    .dataframe tbody tr th {\n",
       "        vertical-align: top;\n",
       "    }\n",
       "\n",
       "    .dataframe thead th {\n",
       "        text-align: right;\n",
       "    }\n",
       "</style>\n",
       "<table border=\"1\" class=\"dataframe\">\n",
       "  <thead>\n",
       "    <tr style=\"text-align: right;\">\n",
       "      <th></th>\n",
       "      <th>Accuracy Score</th>\n",
       "      <th>Precision Score</th>\n",
       "      <th>F1 Score</th>\n",
       "      <th>Recall Score</th>\n",
       "    </tr>\n",
       "  </thead>\n",
       "  <tbody>\n",
       "    <tr>\n",
       "      <th>MLP</th>\n",
       "      <td>100.0</td>\n",
       "      <td>1.0</td>\n",
       "      <td>1.0</td>\n",
       "      <td>1.000000</td>\n",
       "    </tr>\n",
       "    <tr>\n",
       "      <th>KNN</th>\n",
       "      <td>75.0</td>\n",
       "      <td>1.0</td>\n",
       "      <td>0.8</td>\n",
       "      <td>0.666667</td>\n",
       "    </tr>\n",
       "    <tr>\n",
       "      <th>SVM</th>\n",
       "      <td>100.0</td>\n",
       "      <td>1.0</td>\n",
       "      <td>1.0</td>\n",
       "      <td>1.000000</td>\n",
       "    </tr>\n",
       "    <tr>\n",
       "      <th>RF</th>\n",
       "      <td>100.0</td>\n",
       "      <td>1.0</td>\n",
       "      <td>1.0</td>\n",
       "      <td>1.000000</td>\n",
       "    </tr>\n",
       "  </tbody>\n",
       "</table>\n",
       "</div>"
      ],
      "text/plain": [
       "     Accuracy Score  Precision Score  F1 Score  Recall Score\n",
       "MLP           100.0              1.0       1.0      1.000000\n",
       "KNN            75.0              1.0       0.8      0.666667\n",
       "SVM           100.0              1.0       1.0      1.000000\n",
       "RF            100.0              1.0       1.0      1.000000"
      ]
     },
     "execution_count": 70,
     "metadata": {},
     "output_type": "execute_result"
    }
   ],
   "source": [
    "allResults = np.array([mlpResults, knnResults, svmResults, rfResults])\n",
    "df = pd.DataFrame(allResults, columns=[\"Accuracy Score\", \"Precision Score\", \"F1 Score\", \"Recall Score\"], index=[\"MLP\", \"KNN\", \"SVM\", \"RF\"])\n",
    "df"
   ]
  }
 ],
 "metadata": {
  "interpreter": {
   "hash": "b80ceb7e6ec64dbd7c0d016f63670f5923684fc7e6df1727cb6aae08d132b1a5"
  },
  "kernelspec": {
   "display_name": "Python 3.9.12 (conda)",
   "language": "python",
   "name": "python3"
  },
  "language_info": {
   "codemirror_mode": {
    "name": "ipython",
    "version": 3
   },
   "file_extension": ".py",
   "mimetype": "text/x-python",
   "name": "python",
   "nbconvert_exporter": "python",
   "pygments_lexer": "ipython3",
   "version": "3.9.12"
  },
  "orig_nbformat": 4
 },
 "nbformat": 4,
 "nbformat_minor": 2
}
